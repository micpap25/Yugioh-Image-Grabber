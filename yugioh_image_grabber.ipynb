{
 "cells": [
  {
   "cell_type": "code",
   "execution_count": 8,
   "id": "97204757",
   "metadata": {},
   "outputs": [],
   "source": [
    "# Imports\n",
    "import requests\n",
    "import json\n",
    "import os"
   ]
  },
  {
   "cell_type": "code",
   "execution_count": 2,
   "id": "a3417b22",
   "metadata": {},
   "outputs": [],
   "source": [
    "# Configuration\n",
    "\n",
    "# the request; see API docs on how to make the request\n",
    "req = \" \"\n",
    "\n",
    "# the name of the json file to save the request to\n",
    "json_name = \" \"\n",
    "\n",
    "# the folder name to dump into\n",
    "folder_name = \" \""
   ]
  },
  {
   "cell_type": "code",
   "execution_count": 10,
   "id": "91cc689e",
   "metadata": {},
   "outputs": [],
   "source": [
    "# Get the list of cards\n",
    "url = \"https://db.ygoprodeck.com/api/v7/cardinfo.php?\" + req\n",
    "\n",
    "cards = None\n",
    "\n",
    "try:\n",
    "    response = requests.get(url)\n",
    "    if response.status_code == 200:\n",
    "        cards = response.json()\n",
    "    else:\n",
    "        raise Exception(\"Status code is \" + str(response.status_code))\n",
    "\n",
    "\n",
    "except requests.exceptions.RequestException as e:\n",
    "    print(\"Error:\" + str(e))"
   ]
  },
  {
   "cell_type": "code",
   "execution_count": 11,
   "id": "0903cede",
   "metadata": {},
   "outputs": [],
   "source": [
    "# Dump the list to a file\n",
    "if cards is not None:\n",
    "    with open(json_name + \".json\", \"w\") as file:\n",
    "        json.dump(cards, file)"
   ]
  },
  {
   "cell_type": "code",
   "execution_count": null,
   "id": "af4d1fb4",
   "metadata": {},
   "outputs": [],
   "source": [
    "# Read back to an object\n",
    "try:\n",
    "    with open(json_name + '.json') as file:\n",
    "        cards = json.load(file)\n",
    "        \n",
    "except IOError:\n",
    "    print(\"JSON does not exist\")"
   ]
  },
  {
   "cell_type": "code",
   "execution_count": 13,
   "id": "a7c9d5ea",
   "metadata": {},
   "outputs": [],
   "source": [
    "# Make a folder for the cards\n",
    "os.mkdir(folder_name)"
   ]
  },
  {
   "cell_type": "code",
   "execution_count": 14,
   "id": "70eda85b",
   "metadata": {},
   "outputs": [],
   "source": [
    "# Save the images to files\n",
    "for card in cards[\"data\"]:\n",
    "    card_name = card[\"name\"]\n",
    "    file_name = card_name + \".jpg\"\n",
    "    full_name = os.path.join(folder_name, file_name)\n",
    "    image_url = card[\"card_images\"][0][\"image_url_cropped\"]\n",
    "    image = requests.get(image_url).content\n",
    "    with open(full_name, \"wb\") as file:\n",
    "        file.write(image)"
   ]
  }
 ],
 "metadata": {
  "kernelspec": {
   "display_name": "Python 3",
   "language": "python",
   "name": "python3"
  },
  "language_info": {
   "codemirror_mode": {
    "name": "ipython",
    "version": 3
   },
   "file_extension": ".py",
   "mimetype": "text/x-python",
   "name": "python",
   "nbconvert_exporter": "python",
   "pygments_lexer": "ipython3",
   "version": "3.13.0"
  }
 },
 "nbformat": 4,
 "nbformat_minor": 5
}
